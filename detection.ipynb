{
 "cells": [
  {
   "cell_type": "markdown",
   "metadata": {},
   "source": [
    "# Final Project PCV: Deteksi Objek dengan YOLOv5 dan Custom Dataset"
   ]
  },
  {
   "cell_type": "markdown",
   "metadata": {},
   "source": [
    "Mendeteksi objek dengan YOLOv5 dengan menggunakan model dari custom dataset yang sudah dibuat pada Roboflow"
   ]
  },
  {
   "cell_type": "markdown",
   "metadata": {},
   "source": [
    "### Periksa instalasi YOLOv5"
   ]
  },
  {
   "cell_type": "code",
   "execution_count": null,
   "metadata": {},
   "outputs": [],
   "source": [
    "import torch\n",
    "import utils\n",
    "display = utils.notebook_init()"
   ]
  },
  {
   "cell_type": "markdown",
   "metadata": {},
   "source": [
    "### Tes deteksi menggunakan webcam dan model yolov5s"
   ]
  },
  {
   "cell_type": "code",
   "execution_count": null,
   "metadata": {},
   "outputs": [],
   "source": [
    "!python detect.py --weights yolov5s.pt --source 1\n",
    "# --source: sumber yang digunakan untuk deteksi\n",
    "# --weights: model yang digunakan untuk deteksi"
   ]
  },
  {
   "cell_type": "markdown",
   "metadata": {},
   "source": [
    "### Training custom dataset"
   ]
  },
  {
   "cell_type": "code",
   "execution_count": null,
   "metadata": {},
   "outputs": [],
   "source": [
    "!python train.py --batch 25 --epochs 100 --data data.yaml --cfg custom_data.yaml --weights '' --name train_result --cache\n",
    "# --epochs: jumlah pengulangan training\n",
    "# --data: dataset yang digunakan untuk training\n",
    "# --cfg: file konfigurasi yang digunakan untuk training\n",
    "# --weights: model yang digunakan sebagai patokan untuk training, '' untuk training dataset dari awal\n",
    "# --name: nama folder hasil training disimpan\n",
    "# --cache: caching ke RAM untuk mempercepat proses training"
   ]
  },
  {
   "cell_type": "markdown",
   "metadata": {},
   "source": [
    "### Tes deteksi menggunakan model dari dataset yang sudah di-train"
   ]
  },
  {
   "cell_type": "code",
   "execution_count": null,
   "metadata": {},
   "outputs": [],
   "source": [
    "!python detect.py --weights best.pt --source 1 # sumber dari webcam"
   ]
  }
 ],
 "metadata": {
  "interpreter": {
   "hash": "53905941f482ba3c7005a0359b4ba5584c4acc4fb80e1e1e85ad2b59bb45b700"
  },
  "kernelspec": {
   "display_name": "Python 3.10.4 64-bit",
   "language": "python",
   "name": "python3"
  },
  "language_info": {
   "codemirror_mode": {
    "name": "ipython",
    "version": 3
   },
   "file_extension": ".py",
   "mimetype": "text/x-python",
   "name": "python",
   "nbconvert_exporter": "python",
   "pygments_lexer": "ipython3",
   "version": "3.10.4"
  },
  "orig_nbformat": 4
 },
 "nbformat": 4,
 "nbformat_minor": 2
}
