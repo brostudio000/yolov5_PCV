{
 "cells": [
  {
   "cell_type": "markdown",
   "metadata": {},
   "source": [
    "# Final Project PCV: Deteksi Objek dengan YOLOv5 dan Custom Dataset"
   ]
  },
  {
   "cell_type": "markdown",
   "metadata": {},
   "source": [
    "Mendeteksi objek dengan YOLOv5 dengan menggunakan model dari custom dataset yang sudah dibuat pada Roboflow"
   ]
  },
  {
   "cell_type": "markdown",
   "metadata": {},
   "source": [
    "### Periksa instalasi YOLOv5"
   ]
  },
  {
   "cell_type": "code",
   "execution_count": 1,
   "metadata": {},
   "outputs": [
    {
     "name": "stderr",
     "output_type": "stream",
     "text": [
      "YOLOv5  v6.1-267-g264aafa Python-3.10.4 torch-1.11.0+cu113 CPU\n"
     ]
    },
    {
     "name": "stdout",
     "output_type": "stream",
     "text": [
      "Setup complete  (4 CPUs, 7.0 GB RAM, 277.8/290.8 GB disk)\n"
     ]
    }
   ],
   "source": [
    "import torch\n",
    "import utils\n",
    "display = utils.notebook_init()"
   ]
  },
  {
   "cell_type": "markdown",
   "metadata": {},
   "source": [
    "### Tes deteksi menggunakan webcam dan model yolov5s (metode 1)"
   ]
  },
  {
   "cell_type": "code",
   "execution_count": null,
   "metadata": {},
   "outputs": [],
   "source": [
    "!python detect.py --weights yolov5s.pt --source 1\n",
    "# --source: sumber yang digunakan untuk deteksi\n",
    "# --weights: model yang digunakan untuk deteksi"
   ]
  },
  {
   "cell_type": "markdown",
   "metadata": {},
   "source": [
    "### Tes deteksi menggunakan webcam dan model yolov5s (metode 2)"
   ]
  },
  {
   "cell_type": "code",
   "execution_count": null,
   "metadata": {},
   "outputs": [],
   "source": [
    "import cv2 \n",
    "import torch\n",
    "import numpy as np \n",
    "\n",
    "model = torch.hub.load('ultralytics/yolov5', 'yolov5s')\n",
    "model.img = 360\n",
    "cap = cv2.VideoCapture(1)\n",
    "if (cap.isOpened()== False): \n",
    "  print(\"Error opening video stream or file\")\n",
    "\n",
    "while(cap.isOpened()):\n",
    "  ret, frame = cap.read()\n",
    "  if ret == True:\n",
    "    result = model(frame)\n",
    "    DetectionBoxes = result.pandas().xyxy[0].values.tolist()\n",
    "\n",
    "    for Box in DetectionBoxes:\n",
    "      # Bounding Box\n",
    "      xmin,ymin,xmax,ymax,conf,cl,name = Box\n",
    "      pmin =(int(xmin),int(ymin))\n",
    "      pmax =(int(xmax),int(ymax))\n",
    "      frame = cv.rectangle(frame, pmin, pmax,(255,255,0),3)\n",
    "      pPos = (int(xmin),int(ymin))\n",
    "      # Font\n",
    "      fontScale = 2\n",
    "      color = (255, 255, 255)\n",
    "      thickness = 2\n",
    "      font = cv.FONT_HERSHEY_DUPLEX\n",
    "      frame = cv.putText(frame,name, pPos, font,fontScale, color,thickness, cv.LINE_AA)\n",
    "    cv2.imshow('Frame',frame)\n",
    "    if cv2.waitKey(25) & 0xFF == ord('q'):\n",
    "      break\n",
    "  else: \n",
    "    break\n",
    "cap.release()\n",
    "cv2.destroyAllWindows()"
   ]
  },
  {
   "cell_type": "markdown",
   "metadata": {},
   "source": [
    "### Training custom dataset"
   ]
  },
  {
   "cell_type": "code",
   "execution_count": null,
   "metadata": {},
   "outputs": [],
   "source": [
    "!python train.py --batch 25 --epochs 100 --data data.yaml --cfg custom_data.yaml --weights '' --name train_result --cache\n",
    "# --epochs: jumlah pengulangan training\n",
    "# --data: dataset yang digunakan untuk training\n",
    "# --cfg: file konfigurasi yang digunakan untuk training\n",
    "# --weights: model yang digunakan sebagai patokan untuk training, '' untuk training dataset dari awal\n",
    "# --name: nama folder hasil training disimpan\n",
    "# --cache: caching ke RAM untuk mempercepat proses training"
   ]
  },
  {
   "cell_type": "markdown",
   "metadata": {},
   "source": [
    "### Tes deteksi menggunakan model dari dataset yang sudah di-train (metode 1)"
   ]
  },
  {
   "cell_type": "code",
   "execution_count": null,
   "metadata": {},
   "outputs": [],
   "source": [
    "!python detect.py --img 480 --weights best_result14.pt --source 1"
   ]
  },
  {
   "cell_type": "markdown",
   "metadata": {},
   "source": [
    "### Tes deteksi menggunakan model dari dataset yang sudah di-train (metode 2)"
   ]
  },
  {
   "cell_type": "code",
   "execution_count": null,
   "metadata": {},
   "outputs": [],
   "source": [
    "import cv2 as cv\n",
    "import torch\n",
    "import numpy as np \n",
    "\n",
    "# Model yang digunakan untuk deteksi\n",
    "path = \"yolov5s.pt\"\n",
    "model = torch.hub.load('', 'custom', path=path, source='local')\n",
    "# Source yang digunakan untuk deteksi\n",
    "cap = cv.VideoCapture(1)\n",
    "if (cap.isOpened()== False): \n",
    "  print(\"Error opening video stream or file\")\n",
    "\n",
    "# Baca source sampai selesai\n",
    "while(cap.isOpened()):\n",
    "  # Capture frame-by-frame\n",
    "  ret, frame = cap.read()\n",
    "  if ret == True:\n",
    "    result = model(frame) # Inference\n",
    "    DetectionBoxes = result.pandas().xyxy[0].values.tolist()\n",
    "\n",
    "    for Box in DetectionBoxes:\n",
    "      # Bounding Box\n",
    "      xmin,ymin,xmax,ymax,conf,cl,name = Box\n",
    "      pmin =(int(xmin),int(ymin))\n",
    "      pmax =(int(xmax),int(ymax))\n",
    "      frame = cv.rectangle(frame, pmin, pmax,(255,255,0),3)\n",
    "      pPos = (int(xmin),int(ymin))\n",
    "      # Font\n",
    "      fontScale = 2\n",
    "      color = (255, 255, 255)\n",
    "      thickness = 2\n",
    "      font = cv.FONT_HERSHEY_DUPLEX\n",
    "      frame = cv.putText(frame,name, pPos, font,fontScale, color,thickness, cv.LINE_AA)\n",
    "    # Menampilkan window capture\n",
    "    cv.imshow('Frame',frame)\n",
    "    # Tombol Q untuk keluar dari window capture\n",
    "    if cv.waitKey(25) & 0xFF == ord('q'):\n",
    "      break\n",
    "  # Keluar dari loop\n",
    "  else: \n",
    "    break\n",
    "cap.release()\n",
    "# Hapus Semua frame\n",
    "cv.destroyAllWindows()"
   ]
  }
 ],
 "metadata": {
  "interpreter": {
   "hash": "53905941f482ba3c7005a0359b4ba5584c4acc4fb80e1e1e85ad2b59bb45b700"
  },
  "kernelspec": {
   "display_name": "Python 3.10.4 64-bit",
   "language": "python",
   "name": "python3"
  },
  "language_info": {
   "codemirror_mode": {
    "name": "ipython",
    "version": 3
   },
   "file_extension": ".py",
   "mimetype": "text/x-python",
   "name": "python",
   "nbconvert_exporter": "python",
   "pygments_lexer": "ipython3",
   "version": "3.10.4"
  },
  "orig_nbformat": 4
 },
 "nbformat": 4,
 "nbformat_minor": 2
}
